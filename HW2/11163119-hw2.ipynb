{
 "cells": [
  {
   "cell_type": "markdown",
   "metadata": {},
   "source": [
    "# Information Retrieval I #\n",
    "## Assignment 2: retrieval models [100 points + 10 bonus points] ##\n",
    "\n",
    "Name: Klaas Schuijtemaker\n",
    "\n",
    "Student nr.: 11163119\n",
    "\n",
    "Date: 26 jan. 2017"
   ]
  },
  {
   "cell_type": "code",
   "execution_count": 1,
   "metadata": {
    "collapsed": false,
    "scrolled": false
   },
   "outputs": [
    {
     "name": "stdout",
     "output_type": "stream",
     "text": [
      "Q1 Q0 DOC1 1 1.0 example\n",
      "Q1 Q0 DOC3 2 0.75 example\n",
      "Q1 Q0 DOC2 3 0.5 example\n"
     ]
    }
   ],
   "source": [
    "import logging\n",
    "import sys\n",
    "\n",
    "def write_run(model_name, subject_id, object_assesments, out_f,\n",
    "              max_objects_per_query=sys.maxsize,\n",
    "              skip_sorting=False):\n",
    "    \"\"\"\n",
    "    Write a run to an output file.\n",
    "    Parameters:\n",
    "        - model_name: identifier of run.\n",
    "        - topic_id\n",
    "        - object_assesments is an iterable (list or tuple) of\n",
    "            (relevance, object_id) pairs.\n",
    "            The object_assesments iterable is sorted by decreasing order.\n",
    "        - out_f: output file stream.\n",
    "        - max_objects_per_query: cut-off for number of objects per query.\n",
    "    \"\"\"\n",
    "    if not object_assesments:\n",
    "        logging.warning('Received empty ranking for %s; ignoring.',\n",
    "                        subject_id)\n",
    "        print(model_name,subject_id,object_assesments,out_f)\n",
    "\n",
    "        return\n",
    "\n",
    "    # Probe types, to make sure everything goes alright.\n",
    "    # assert isinstance(object_assesments[0][0], float) or \\\n",
    "    #     isinstance(object_assesments[0][0], np.float32)\n",
    "    assert isinstance(object_assesments[0][1], str) or \\\n",
    "        isinstance(object_assesments[0][1], bytes)\n",
    "\n",
    "    if not skip_sorting:\n",
    "        object_assesments = sorted(object_assesments, reverse=True)\n",
    "\n",
    "    if max_objects_per_query < sys.maxsize:\n",
    "        object_assesments = object_assesments[:max_objects_per_query]\n",
    "\n",
    "    if isinstance(subject_id, bytes):\n",
    "        subject_id = subject_id.decode('utf8')\n",
    "\n",
    "    for rank, (relevance, object_id) in enumerate(object_assesments):\n",
    "        if isinstance(object_id, bytes):\n",
    "            object_id = object_id.decode('utf8')\n",
    "\n",
    "        out_f.write(\n",
    "            '{subject} Q0 {object} {rank} {relevance} '\n",
    "            '{model_name}\\n'.format(\n",
    "                subject=subject_id,\n",
    "                object=object_id,\n",
    "                rank=rank + 1,\n",
    "                relevance=relevance,\n",
    "                model_name=model_name))\n",
    "            \n",
    "# The following writes the run to standard output.\n",
    "# In your code, you should write the runs to local\n",
    "# storage in order to pass them to trec_eval.\n",
    "write_run(\n",
    "    model_name='example',\n",
    "    subject_id='Q1',\n",
    "    object_assesments=((1.0, 'DOC1'), (0.5, 'DOC2'), (0.75, 'DOC3')),\n",
    "    out_f=sys.stdout,\n",
    "    max_objects_per_query=1000)"
   ]
  },
  {
   "cell_type": "markdown",
   "metadata": {},
   "source": [
    "### Task 1: Implement and compare lexical IR methods [45 points] ### "
   ]
  },
  {
   "cell_type": "markdown",
   "metadata": {},
   "source": [
    "#### Implementation of all IR methods"
   ]
  },
  {
   "cell_type": "code",
   "execution_count": 10,
   "metadata": {
    "collapsed": false
   },
   "outputs": [],
   "source": [
    "import pyndri\n",
    "import collections\n",
    "import io\n",
    "import logging\n",
    "import sys\n",
    "\n",
    "# Load documents\n",
    "index = pyndri.Index('index/')\n",
    "token2id, id2token, id2df = index.get_dictionary()\n",
    "id2tf = index.get_term_frequencies()\n",
    "\n",
    "# usefull definitions\n",
    "n = index.document_count() # total amount of documents\n",
    "get_tf = lambda token_id, document: sum(token_id == word for word in document[1]) # term frequency\n",
    "get_df = lambda token_id: id2df[token_id] # document frequency\n",
    "get_idf = lambda token_id: math.log(n / get_df(token_id)) # inverse document frequency\n",
    "get_l = lambda document_id: max(0.001, index.document_length(document_id)) # total amount of words in document\n",
    "get_lu = lambda document: len(set(document[1])) # total amount of unique words in document\n",
    "\n",
    "l_tot = 0 # |C| total amount of words in collection\n",
    "for int_document_id in range(index.document_base(), index.maximum_document()):\n",
    "    l_tot += get_l(int_document_id)\n",
    "l_avg = l_tot / n # average amount of words in collection\n",
    "\n",
    "# TF-IDF\n",
    "def score_tf_idf(query_id_tokens, document_id):\n",
    "    document = index.document(document_id)\n",
    "    score = 0\n",
    "    for token_id in query_id_tokens:\n",
    "        score += math.log(1+get_tf(token_id, document)) * get_idf(token_id)\n",
    "    return (score, document[0])\n",
    "\n",
    "# BM25\n",
    "def score_bm25(query_id_tokens, document_id, k1=1.2, b=0.75):\n",
    "    document = index.document(document_id)\n",
    "    a = k1 + 1\n",
    "    c = k1 * ((1-b) + b*(get_l(document_id) / l_avg))\n",
    "    score = 0\n",
    "    for token_id in query_id_tokens:\n",
    "        tf = get_tf(token_id, document)\n",
    "        score += a * tf / (c + tf) * get_idf(token_id)\n",
    "    return (score, document[0])\n",
    "\n",
    "# Language Model with Jelinek-Mercer smoothing\n",
    "def score_jelinek_mercer(query_id_tokens, document_id, lamb=0.6):\n",
    "    document = index.document(document_id)\n",
    "    score = 1\n",
    "    for token_id in query_id_tokens:\n",
    "        score *= lamb * get_tf(token_id, document) / get_l(document_id) + (1-lamb) * id2tf[token_id] / l_tot\n",
    "    return (score, document[0])\n",
    "\n",
    "# Language Model with Dirichlet Prior smooting\n",
    "def score_dirichlet_prior(query_id_tokens, document_id, mu=1250):\n",
    "    document = index.document(document_id)\n",
    "    a = get_l(document_id) / (get_l(document_id) + mu)\n",
    "    b = mu / (mu+get_l(document_id))\n",
    "    score = 1\n",
    "    for token_id in query_id_tokens:\n",
    "        score *= a*get_tf(token_id, document)/get_l(document_id) + b*id2tf[token_id]/l_tot \n",
    "    return (score, document[0])\n",
    "\n",
    "# Language Model Absolute discounting smoothing\n",
    "def score_absolute_discounting(query_id_tokens, document_id, delta=0.9):\n",
    "    document = index.document(document_id)\n",
    "    b = delta*get_lu(document)/get_l(document_id)\n",
    "    score = 1\n",
    "    for token_id in query_id_tokens:\n",
    "        score *= max(get_tf(token_id, document)-delta,0)/get_l(document_id) + b*id2tf[token_id]/l_tot\n",
    "    return (score, document[0])\n",
    "\n",
    "# all kernels\n",
    "def gaussian_kernel(i, j, sigma):\n",
    "    return math.exp(-(i-j)**2 / 2*sigma**2)\n",
    "\n",
    "def triangle_kernel(i, j, sigma):\n",
    "    if abs(i-j) <= sigma:\n",
    "        return 1 - abs(i-j)/sigma\n",
    "    else:\n",
    "        return 0\n",
    "\n",
    "def cosine_kernel(i, j, sigma):\n",
    "    if abs(i-j) <= sigma:\n",
    "        return 0.5 * (1+math.cos(abs(i-j)*math.pi/sigma))\n",
    "    else:\n",
    "        return 0\n",
    "\n",
    "def circle_kernel(i, j, sigma):\n",
    "    if abs(i-j) <= sigma:\n",
    "        return math.sqrt(1 - (abs(i-j)/sigma)**2)\n",
    "    else:\n",
    "        return 0\n",
    "\n",
    "def passage_kernel(i, j, sigma):\n",
    "    if abs(i-j) <= sigma:\n",
    "        return 1\n",
    "    else:\n",
    "        return 0\n",
    "\n",
    "# Positional Language Model (way too slow)\n",
    "def score_plm(query_id_tokens, document_id, kernel_method, mu=1000, sigma=50):\n",
    "    document = index.document(document_id)\n",
    "    sqd = 0 # S(Q,D)\n",
    "    for i, i_word in enumerate(document[1]):\n",
    "        sqdi = 0 # S(Q,D,i)\n",
    "        for v_word in id2token.keys():\n",
    "            c_wi = 0 # c'(w,i)\n",
    "            for j, j_word in enumerate(document[1]):\n",
    "                cwi = (i_word == j_word) # c(w,i)\n",
    "                c_wi += cwi * kernel_method(i,j,sigma)\n",
    "            pwc = id2tf[v_word] / l_tot # p(w|C)\n",
    "            zi = sum(kernel_method(i,j,sigma) for j in range(len(document[1]))) # Zi = sum(c'(w,i))\n",
    "            pwdi = (c_wi+mu*pwc) / (zi+mu) # p(w|D,i)\n",
    "            pwq = 1 # p(w|Q)\n",
    "            for token_id in query_id_tokens:\n",
    "                pwq *= get_tf(token_id, document) / get_l(document_id)\n",
    "            if pwq/pwdi != 0:\n",
    "                sqdi -= pwq * math.log(pwq/pwdi)\n",
    "        sqd = max(sqd, sqdi) \n",
    "    return (sqd, document[0])"
   ]
  },
  {
   "cell_type": "markdown",
   "metadata": {},
   "source": [
    "#### Load queries"
   ]
  },
  {
   "cell_type": "code",
   "execution_count": 11,
   "metadata": {
    "collapsed": true
   },
   "outputs": [],
   "source": [
    "queries = []\n",
    "for line in open('ap_88_89/topics_title'):\n",
    "    cell = line.split(';')\n",
    "    query_id = int(cell[0])\n",
    "    query = cell[1]\n",
    "    query_tokens = index.tokenize(query)\n",
    "    query_id_tokens = [token2id.get(query_token,0) for query_token in query_tokens]\n",
    "    query_id_tokens = [word_id for word_id in query_id_tokens if word_id > 0]\n",
    "    queries += [(query_id, query_id_tokens)]"
   ]
  },
  {
   "cell_type": "markdown",
   "metadata": {},
   "source": [
    "#### Run experiments\n",
    "A complete run through all the experiments took too much time. Therefore, the number of documents were decreased to 2000.\n",
    "However, the Positional Language Model was still way too slow. So we decided not to test the PLM. Nevertheless, it's implementation should be correct."
   ]
  },
  {
   "cell_type": "code",
   "execution_count": 12,
   "metadata": {
    "collapsed": true
   },
   "outputs": [
    {
     "ename": "KeyboardInterrupt",
     "evalue": "",
     "output_type": "error",
     "traceback": [
      "\u001b[0;31m---------------------------------------------------------------------------\u001b[0m",
      "\u001b[0;31mKeyboardInterrupt\u001b[0m                         Traceback (most recent call last)",
      "\u001b[0;32m<ipython-input-12-a487b59aeac1>\u001b[0m in \u001b[0;36m<module>\u001b[0;34m()\u001b[0m\n\u001b[1;32m     38\u001b[0m \u001b[0;34m\u001b[0m\u001b[0m\n\u001b[1;32m     39\u001b[0m \u001b[0;31m# run all experiments\u001b[0m\u001b[0;34m\u001b[0m\u001b[0;34m\u001b[0m\u001b[0m\n\u001b[0;32m---> 40\u001b[0;31m \u001b[0mrun_experiment\u001b[0m\u001b[0;34m(\u001b[0m\u001b[0;34m'TF-IDF'\u001b[0m\u001b[0;34m,\u001b[0m \u001b[0mscore_tf_idf\u001b[0m\u001b[0;34m)\u001b[0m\u001b[0;34m\u001b[0m\u001b[0m\n\u001b[0m\u001b[1;32m     41\u001b[0m \u001b[0mrun_experiment\u001b[0m\u001b[0;34m(\u001b[0m\u001b[0;34m'BM25'\u001b[0m\u001b[0;34m,\u001b[0m \u001b[0mscore_bm25\u001b[0m\u001b[0;34m)\u001b[0m\u001b[0;34m\u001b[0m\u001b[0m\n\u001b[1;32m     42\u001b[0m \u001b[0mrun_experiment\u001b[0m\u001b[0;34m(\u001b[0m\u001b[0;34m'Jelinek-Mercer'\u001b[0m\u001b[0;34m,\u001b[0m \u001b[0mscore_jelinek_mercer\u001b[0m\u001b[0;34m,\u001b[0m \u001b[0;34m[\u001b[0m\u001b[0;36m0.1\u001b[0m\u001b[0;34m,\u001b[0m\u001b[0;36m0.2\u001b[0m\u001b[0;34m,\u001b[0m\u001b[0;36m0.3\u001b[0m\u001b[0;34m,\u001b[0m\u001b[0;36m0.4\u001b[0m\u001b[0;34m,\u001b[0m\u001b[0;36m0.5\u001b[0m\u001b[0;34m,\u001b[0m\u001b[0;36m0.6\u001b[0m\u001b[0;34m,\u001b[0m\u001b[0;36m0.7\u001b[0m\u001b[0;34m,\u001b[0m\u001b[0;36m0.8\u001b[0m\u001b[0;34m,\u001b[0m\u001b[0;36m0.9\u001b[0m\u001b[0;34m]\u001b[0m\u001b[0;34m)\u001b[0m\u001b[0;34m\u001b[0m\u001b[0m\n",
      "\u001b[0;32m<ipython-input-12-a487b59aeac1>\u001b[0m in \u001b[0;36mrun_experiment\u001b[0;34m(ir_name, ir_method, ir_args)\u001b[0m\n\u001b[1;32m     24\u001b[0m \u001b[0;34m\u001b[0m\u001b[0m\n\u001b[1;32m     25\u001b[0m                     \u001b[0;32mif\u001b[0m \u001b[0mir_arg\u001b[0m \u001b[0;34m==\u001b[0m \u001b[0;32mNone\u001b[0m\u001b[0;34m:\u001b[0m\u001b[0;34m\u001b[0m\u001b[0m\n\u001b[0;32m---> 26\u001b[0;31m                         \u001b[0massesment\u001b[0m \u001b[0;34m=\u001b[0m \u001b[0mir_method\u001b[0m\u001b[0;34m(\u001b[0m\u001b[0mquery_id_tokens\u001b[0m\u001b[0;34m,\u001b[0m \u001b[0mint_document_id\u001b[0m\u001b[0;34m)\u001b[0m\u001b[0;34m\u001b[0m\u001b[0m\n\u001b[0m\u001b[1;32m     27\u001b[0m                     \u001b[0;32melse\u001b[0m\u001b[0;34m:\u001b[0m\u001b[0;34m\u001b[0m\u001b[0m\n\u001b[1;32m     28\u001b[0m                         \u001b[0massesment\u001b[0m \u001b[0;34m=\u001b[0m \u001b[0mir_method\u001b[0m\u001b[0;34m(\u001b[0m\u001b[0mquery_id_tokens\u001b[0m\u001b[0;34m,\u001b[0m \u001b[0mint_document_id\u001b[0m\u001b[0;34m,\u001b[0m \u001b[0mir_arg\u001b[0m\u001b[0;34m)\u001b[0m\u001b[0;34m\u001b[0m\u001b[0m\n",
      "\u001b[0;32m<ipython-input-10-9ec308a5aab2>\u001b[0m in \u001b[0;36mscore_tf_idf\u001b[0;34m(query_id_tokens, document_id)\u001b[0m\n\u001b[1;32m     19\u001b[0m \u001b[0;31m# TF-IDF\u001b[0m\u001b[0;34m\u001b[0m\u001b[0;34m\u001b[0m\u001b[0m\n\u001b[1;32m     20\u001b[0m \u001b[0;32mdef\u001b[0m \u001b[0mscore_tf_idf\u001b[0m\u001b[0;34m(\u001b[0m\u001b[0mquery_id_tokens\u001b[0m\u001b[0;34m,\u001b[0m \u001b[0mdocument_id\u001b[0m\u001b[0;34m)\u001b[0m\u001b[0;34m:\u001b[0m\u001b[0;34m\u001b[0m\u001b[0m\n\u001b[0;32m---> 21\u001b[0;31m     \u001b[0mdocument\u001b[0m \u001b[0;34m=\u001b[0m \u001b[0mindex\u001b[0m\u001b[0;34m.\u001b[0m\u001b[0mdocument\u001b[0m\u001b[0;34m(\u001b[0m\u001b[0mdocument_id\u001b[0m\u001b[0;34m)\u001b[0m\u001b[0;34m\u001b[0m\u001b[0m\n\u001b[0m\u001b[1;32m     22\u001b[0m     \u001b[0mscore\u001b[0m \u001b[0;34m=\u001b[0m \u001b[0;36m0\u001b[0m\u001b[0;34m\u001b[0m\u001b[0m\n\u001b[1;32m     23\u001b[0m     \u001b[0;32mfor\u001b[0m \u001b[0mtoken_id\u001b[0m \u001b[0;32min\u001b[0m \u001b[0mquery_id_tokens\u001b[0m\u001b[0;34m:\u001b[0m\u001b[0;34m\u001b[0m\u001b[0m\n",
      "\u001b[0;31mKeyboardInterrupt\u001b[0m: "
     ]
    }
   ],
   "source": [
    "import random\n",
    "import subprocess\n",
    "\n",
    "# scale down. decrease number of documents\n",
    "sample_size = 5000\n",
    "document_sample = random.sample(range(index.document_base(), index.maximum_document()), sample_size)\n",
    "\n",
    "# run experiment and save results\n",
    "def run_experiment(ir_name, ir_method, ir_args=[None]):\n",
    "    for ir_arg in ir_args:\n",
    "        \n",
    "        if ir_arg == None:\n",
    "            file_name = ir_name + '.run'\n",
    "        else:\n",
    "            file_name = ir_name + '_' + str(ir_arg) + '.run'\n",
    "            \n",
    "        with open(file_name, 'w'): pass\n",
    "        with open(file_name, 'a') as run_file:\n",
    "\n",
    "            for query_id, query_id_tokens in queries:\n",
    "\n",
    "                assesments = []\n",
    "                for int_document_id in document_sample:\n",
    "                    \n",
    "                    if ir_arg == None:\n",
    "                        assesment = ir_method(query_id_tokens, int_document_id)\n",
    "                    else:\n",
    "                        assesment = ir_method(query_id_tokens, int_document_id, ir_arg)\n",
    "                    \n",
    "                    if assesment[0] > 0:\n",
    "                        assesments += [assesment]\n",
    "                \n",
    "                if len(assesments) > 0:\n",
    "                    write_run('_', query_id, tuple(assesments), run_file, 1000)\n",
    "        \n",
    "        print('Finished:', file_name)\n",
    "\n",
    "\n",
    "# run all experiments\n",
    "run_experiment('TF-IDF', score_tf_idf)\n",
    "run_experiment('BM25', score_bm25)\n",
    "run_experiment('Jelinek-Mercer', score_jelinek_mercer, [0.1,0.2,0.3,0.4,0.5,0.6,0.7,0.8,0.9])\n",
    "run_experiment('Dirichlet Prior', score_dirichlet_prior, [500, 1000, 1500, 2000])\n",
    "run_experiment('Absolute discounting', score_absolute_discounting, [0.1,0.2,0.3,0.4,0.5,0.6,0.7,0.8,0.9])\n",
    "#run_experiment('PLM', score_plm, [gaussian_kernel,triangle_kernel,cosine_kernel,circle_kernel,passage_kernel])\n"
   ]
  },
  {
   "cell_type": "markdown",
   "metadata": {},
   "source": [
    "#### Plot hyper parameter values"
   ]
  },
  {
   "cell_type": "code",
   "execution_count": 15,
   "metadata": {
    "collapsed": false,
    "scrolled": true
   },
   "outputs": [
    {
     "data": {
      "image/png": "[encoded data removed]",
      "text/plain": [
       "<matplotlib.figure.Figure at 0x7f71f43a0748>"
      ]
     },
     "metadata": {},
     "output_type": "display_data"
    },
    {
     "data": {
      "image/png": "[encoded data removed]",
      "text/plain": [
       "<matplotlib.figure.Figure at 0x7f720c59f940>"
      ]
     },
     "metadata": {},
     "output_type": "display_data"
    },
    {
     "data": {
      "image/png": "[encoded data removed]",
      "text/plain": [
       "<matplotlib.figure.Figure at 0x7f71f41f2e10>"
      ]
     },
     "metadata": {},
     "output_type": "display_data"
    },
    {
     "data": {
      "text/plain": [
       "(None,)"
      ]
     },
     "execution_count": 15,
     "metadata": {},
     "output_type": "execute_result"
    }
   ],
   "source": [
    "import matplotlib.pyplot as plt\n",
    "import subprocess\n",
    "\n",
    "def plot_hyper_parameter_values(ir_name, ir_args):\n",
    "    \n",
    "    ndcgs = []\n",
    "    for ir_arg in ir_args:\n",
    "        if ir_arg == None:\n",
    "            file_name = ir_name + '.run'\n",
    "        else:\n",
    "            file_name = ir_name + '_' + str(ir_arg) + '.run'\n",
    "        ev_methods = '(ndcg_cut_10\\W+all)'\n",
    "        qrel_set = 'ap_88_89/qrel_validation'\n",
    "        cmd = 'trec_eval -m all_trec -q \"' + qrel_set + '\" \"' + file_name + '\" | grep -E \"' + ev_methods + '\"'\n",
    "        ndcg = float(subprocess.check_output(cmd, shell=True).decode('utf-8').split('\\t')[2].strip())\n",
    "        ndcgs += [ndcg]\n",
    "    \n",
    "    plt.title(ir_name + ' hyper parameter values')\n",
    "    plt.plot(ir_args, ndcgs)\n",
    "    plt.xlabel('hyper parameter value')\n",
    "    plt.ylabel('ndcg')\n",
    "    plt.show()\n",
    "\n",
    "# Plot all language model hyper parameters\n",
    "plot_hyper_parameter_values('Jelinek-Mercer', [0.1,0.2,0.3,0.4,0.5,0.6,0.7,0.8,0.9]),\n",
    "plot_hyper_parameter_values('Dirichlet Prior', [500, 1000, 1500, 2000]),\n",
    "plot_hyper_parameter_values('Absolute discounting', [0.1,0.2,0.3,0.4,0.5,0.6,0.7,0.8,0.9]),\n",
    "#plot_hyper_parameter_values('PLM', [gaussian_kernel,triangle_kernel,cosine_kernel,circle_kernel,passage_kernel]),\n"
   ]
  },
  {
   "cell_type": "markdown",
   "metadata": {
    "collapsed": true
   },
   "source": [
    "#### Evaluate IR methods"
   ]
  },
  {
   "cell_type": "code",
   "execution_count": 16,
   "metadata": {
    "collapsed": false,
    "scrolled": true
   },
   "outputs": [
    {
     "name": "stdout",
     "output_type": "stream",
     "text": [
      "TF-IDF.run:\n",
      "P_5                   \tall\t0.1633\n",
      "recall_1000           \tall\t0.0290\n",
      "ndcg_cut_10           \tall\t0.1462\n",
      "map_cut_1000          \tall\t0.0133\n",
      "\n",
      "\n",
      "\n",
      "BM25.run:\n",
      "P_5                   \tall\t0.1600\n",
      "recall_1000           \tall\t0.0290\n",
      "ndcg_cut_10           \tall\t0.1436\n",
      "map_cut_1000          \tall\t0.0132\n",
      "\n",
      "\n",
      "\n",
      "Jelinek-Mercer_0.1.run:\n",
      "P_5                   \tall\t0.1533\n",
      "recall_1000           \tall\t0.0298\n",
      "ndcg_cut_10           \tall\t0.1369\n",
      "map_cut_1000          \tall\t0.0127\n",
      "\n",
      "\n",
      "\n",
      "Dirichlet Prior_500.run:\n",
      "P_5                   \tall\t0.1583\n",
      "recall_1000           \tall\t0.0281\n",
      "ndcg_cut_10           \tall\t0.1425\n",
      "map_cut_1000          \tall\t0.0135\n",
      "\n",
      "\n",
      "\n",
      "Absolute discounting_0.5.run:\n",
      "P_5                   \tall\t0.1567\n",
      "recall_1000           \tall\t0.0291\n",
      "ndcg_cut_10           \tall\t0.1408\n",
      "map_cut_1000          \tall\t0.0134\n",
      "\n",
      "\n",
      "\n"
     ]
    }
   ],
   "source": [
    "def print_eval_ir_method(ir_name, ir_arg=None):\n",
    "    if ir_arg == None:\n",
    "        file_name = ir_name + '.run'\n",
    "    else:\n",
    "        file_name = ir_name + '_' + str(ir_arg) + '.run'\n",
    "\n",
    "    ev_methods = '(ndcg_cut_10\\W+all)|(map_cut_1000\\W+all)|(^P_5\\W+all)|(recall_1000\\W+all)'\n",
    "    qrel_set = 'ap_88_89/qrel_test'\n",
    "    cmd = 'trec_eval -m all_trec -q \"' + qrel_set + '\" \"' + file_name + '\" | grep -E \"' + ev_methods + '\"'\n",
    "    \n",
    "    print(file_name + ':')\n",
    "    print(subprocess.check_output(cmd, shell=True).decode('utf-8'))\n",
    "    print('\\n')\n",
    "\n",
    "print_eval_ir_method('TF-IDF')\n",
    "print_eval_ir_method('BM25')\n",
    "print_eval_ir_method('Jelinek-Mercer', 0.1)\n",
    "print_eval_ir_method('Dirichlet Prior', 500)\n",
    "print_eval_ir_method('Absolute discounting', 0.5)\n",
    "#print_eval_ir_method('PLM', gaussian_kernel)"
   ]
  },
  {
   "cell_type": "markdown",
   "metadata": {},
   "source": [
    "#### Prove significance\n",
    "We cannot find any siginifcantly better IR method. This is because the number of documents were decreased to make the experiment feasable. =("
   ]
  },
  {
   "cell_type": "code",
   "execution_count": 17,
   "metadata": {
    "collapsed": false,
    "scrolled": true
   },
   "outputs": [
    {
     "name": "stdout",
     "output_type": "stream",
     "text": [
      "No significant results were found due to scalling down the experiment.\n",
      "BM25 == TF-IDF \t\tp-value: 0.891279909642\n",
      "Jelinek-Mercer == TF-IDF \t\tp-value: 0.606203182163\n",
      "Jelinek-Mercer == BM25 \t\tp-value: 0.398933647771\n",
      "Dirichlet Prior == TF-IDF \t\tp-value: 0.692737281815\n",
      "Dirichlet Prior == BM25 \t\tp-value: 0.538950596507\n",
      "Dirichlet Prior == Jelinek-Mercer \t\tp-value: 0.248583470169\n",
      "Absolute discounting == TF-IDF \t\tp-value: 0.719894751335\n",
      "Absolute discounting == BM25 \t\tp-value: 0.573940195191\n",
      "Absolute discounting == Jelinek-Mercer \t\tp-value: 0.248319064373\n",
      "Absolute discounting == Dirichlet Prior \t\tp-value: 0.983572913448\n"
     ]
    }
   ],
   "source": [
    "import subprocess\n",
    "from scipy import stats\n",
    "\n",
    "# \n",
    "alpha = 0.10\n",
    "\n",
    "# get Mean Average Precision per query of an IR method\n",
    "def get_maps(ir_name, ir_arg=None):\n",
    "    if ir_arg == None:\n",
    "        file_name = ir_name + '.run'\n",
    "    else:\n",
    "        file_name = ir_name + '_' + str(ir_arg) + '.run'\n",
    "    \n",
    "    ev_methods = '(map_cut_10\\W+[0-9])'\n",
    "    qrel_set = 'ap_88_89/qrel_test'\n",
    "    cmd = 'trec_eval -m all_trec -q \"' + qrel_set + '\" \"' + file_name + '\" | grep -E \"' + ev_methods + '\"'\n",
    "    results = subprocess.check_output(cmd, shell=True).decode('utf-8').split('\\n')\n",
    "    return [float(result.split('\\t')[2]) for result in results if len(result) > 0]\n",
    "\n",
    "# Do t-test and print significance\n",
    "def print_significance(ir_name1, ir_arg1, ir_name2, ir_arg2, alpha, k):\n",
    "    \n",
    "    ttest = stats.ttest_rel(get_maps(ir_name1, ir_arg=ir_arg1), get_maps(ir_name2, ir_arg=ir_arg2))\n",
    "    \n",
    "    # Bonferroni correction\n",
    "    alpha_per_comparison = alpha / k\n",
    "    \n",
    "    if ttest.pvalue > alpha_per_comparison:\n",
    "        print(ir_name1 + ' == ' + ir_name2, '\\t\\tp-value:', ttest.pvalue)\n",
    "    elif ttest.statistic < 0:\n",
    "        print(ir_name1 + ' < ' + ir_name2, '\\t\\tp-value:', ttest.pvalue)\n",
    "    else:\n",
    "        print(ir_name2 + ' < ' + ir_name1, '\\t\\tp-value:', ttest.pvalue)\n",
    "\n",
    "# Define IR methods for t-test\n",
    "ir_methods = (\n",
    "    ('TF-IDF', None),\n",
    "    ('BM25', None),\n",
    "    ('Jelinek-Mercer', 0.1),\n",
    "    ('Dirichlet Prior', 500),\n",
    "    ('Absolute discounting', 0.5)\n",
    ")\n",
    "\n",
    "# Do tests\n",
    "print('No significant results were found due to scalling down the experiment.')\n",
    "for ir_name1, ir_arg1 in ir_methods:\n",
    "    for ir_name2, ir_arg2 in ir_methods:\n",
    "        if ir_name1 == ir_name2:\n",
    "            break\n",
    "        print_significance(ir_name1, ir_arg1, ir_name2, ir_arg2, alpha, 4)\n"
   ]
  },
  {
   "cell_type": "markdown",
   "metadata": {},
   "source": [
    "### Task 2: Latent Semantic Models (LSMs) [25 points + 10 bonus points] ###"
   ]
  },
  {
   "cell_type": "markdown",
   "metadata": {},
   "source": [
    "#### Initialize word2vec"
   ]
  },
  {
   "cell_type": "code",
   "execution_count": 18,
   "metadata": {
    "collapsed": false
   },
   "outputs": [],
   "source": [
    "import copy\n",
    "import gensim\n",
    "import logging\n",
    "import pyndri\n",
    "import pyndri.compat\n",
    "import sys\n",
    "\n",
    "word2vec_init = gensim.models.Word2Vec(\n",
    "    size=300,    # Embedding size\n",
    "    window=5,    # One-sided window size\n",
    "    sg=True,     # Skip-gram.\n",
    "    min_count=5, # Minimum word frequency.\n",
    "    sample=1e-3, # Sub-sample threshold.\n",
    "    hs=False,    # Hierarchical softmax.\n",
    "    negative=10, # Number of negative examples.\n",
    "    iter=1,      # Number of iterations.\n",
    "    workers=8,   # Number of workers.\n",
    ")\n",
    "\n",
    "# limit number of docs\n",
    "max_documents = 5000\n",
    "class IndriSentences(pyndri.compat.IndriSentences):\n",
    "    def _maximum_document(self):\n",
    "        return min(max_documents + self.index.document_base(), self.index.maximum_document())\n",
    "\n",
    "#\n",
    "dictionary = pyndri.extract_dictionary(index)\n",
    "sentences = IndriSentences(index, dictionary)\n",
    "\n",
    "# Build vocab.\n",
    "word2vec_init.build_vocab(sentences, trim_rule=None)\n",
    "model = word2vec_init\n"
   ]
  },
  {
   "cell_type": "markdown",
   "metadata": {},
   "source": [
    "#### some usefull defenitions"
   ]
  },
  {
   "cell_type": "code",
   "execution_count": 19,
   "metadata": {
    "collapsed": false
   },
   "outputs": [],
   "source": [
    "import numpy\n",
    "from sklearn.metrics.pairwise import cosine_similarity\n",
    "from sklearn.metrics.cluster import mutual_info_score # (is equivalent to KL Divergence)\n",
    "\n",
    "# token-ids to word-vec\n",
    "def word2vec_representation(id_tokens):\n",
    "    representation = [id2token[token_id] for token_id in id_tokens if token_id > 0]\n",
    "    representation = [model[token] for token in representation if token in model]\n",
    "    return representation\n",
    "\n",
    "# returns similarity between word-vecs\n",
    "def cos_similarity(r1, r2):\n",
    "    r1 = numpy.reshape(r1, (1, -1))\n",
    "    r2 = numpy.reshape(r2, (1, -1))\n",
    "    pad = r1.shape[1] - r2.shape[1]\n",
    "    if pad > 0:\n",
    "        r2 = numpy.pad(r2,((0,0),(0,pad)), 'constant')\n",
    "    elif pad < 0:\n",
    "        r1 = numpy.pad(r1,((0,0),(0,-pad)), 'constant')\n",
    "    return cosine_similarity(r2, r1)[0][0]\n",
    "    #return mutual_info_score(query_representation[0], doc_representation[0])\n",
    "\n",
    "class ZeroDict(dict):\n",
    "    def __missing__(self, key):\n",
    "        return 0\n",
    "    \n",
    "class NestedDict(dict):\n",
    "    def __missing__(self, key):\n",
    "        value = self[key] = ZeroDict()\n",
    "        return value"
   ]
  },
  {
   "cell_type": "markdown",
   "metadata": {},
   "source": [
    "#### Run word2vec experiment\n",
    "Should run the experiment and save the result to 'word2vec.run'. But something is wrong. Instead of returing the updated query model, it returns the original query model. This might be due to the scale down. The original experiment was to CPU extensive. Therefore the number of words used for the estimated query model, was limited."
   ]
  },
  {
   "cell_type": "code",
   "execution_count": null,
   "metadata": {
    "collapsed": true
   },
   "outputs": [],
   "source": [
    "file_name = 'word2vec.run'\n",
    "lamb = 0.5\n",
    "alpha = 0.5\n",
    "\n",
    "with open(file_name, 'w'): pass\n",
    "with open(file_name, 'a') as run_file:\n",
    "    \n",
    "    query_id = '51'\n",
    "    n = 1000\n",
    "    ranking = [0] * n\n",
    "    \n",
    "    for line in open('Dirichlet Prior_500.run'):\n",
    "\n",
    "        cell = line.split()\n",
    "        if query_id != cell[0]:\n",
    "            \n",
    "            # Generative Mixture Model\n",
    "            \n",
    "            ## fill words & cwd_map\n",
    "            words = []             # every w\n",
    "            cwd_map = NestedDict() # c(w;d_n)     for every n and every w\n",
    "            for rank, doc_id in enumerate(ranking):\n",
    "                doc = index.document(doc_id)\n",
    "                doc_words = [token_id for token_id in doc[1] if token_id > 0]\n",
    "                words += doc_words\n",
    "                for word in doc_words:\n",
    "                    cwd_map[rank][word] = get_tf(word, doc)\n",
    "            words = set(words[:20]) # LIMIT! <- CAUSE OF PROBLEM?\n",
    "            \n",
    "            ## fill pwc_map\n",
    "            pwc_map = ZeroDict()   # p(w|C)       for every w\n",
    "            for word in words:\n",
    "                 pwc_map[word] = id2tf[word] / l_tot\n",
    "            \n",
    "            \n",
    "            ## EM algorithm\n",
    "            pwf_map = NestedDict() # p^(n)(w|0_F) for every n and every w\n",
    "            tnw_map = NestedDict() # t^(n)(w)     for every n and every w\n",
    "            \n",
    "            for word in words:\n",
    "                tnw_map[-1][word] = 1\n",
    "            \n",
    "            for rank in range(n):\n",
    "                for word in words:\n",
    "                    if tnw_map[rank-1][word] != 0:\n",
    "                        t1 = sum(cwd_map[j][word] * tnw_map[rank-1][word] for j in range(n))\n",
    "                        if t1 != 0:\n",
    "                            t2 = sum(sum(cwd_map[j][w] * tnw_map[rank-1][w] for w in words) for j in range(n))\n",
    "                            if t2 != 0:\n",
    "                                pwf_map[rank][word] = t1 / t2\n",
    "                                tnw_map[rank][word] = (1-lamb)*pwf_map[rank][word] / ((1-lamb)*pwf_map[rank][word]+lamb*pwc_map[word])\n",
    "                                #print(t1 / t2)\n",
    "                if rank % 20 == 0:\n",
    "                    print(rank)\n",
    "            \n",
    "            ## fill pwF\n",
    "            pwF_map = ZeroDict() # p(w|0_F)\n",
    "            for word in words:\n",
    "                pwF_map[word] = 1\n",
    "                for i in range(n):\n",
    "                    pwF_map[word] *= pwf_map[i][word]\n",
    "            \n",
    "            # update query model\n",
    "            pwq_map = ZeroDict() # p(q|0_F)\n",
    "            \n",
    "            ## estimated query model\n",
    "            for word,p in pwF_map.items():\n",
    "                pwq_map[word] = p * alpha\n",
    "            \n",
    "            ## original query model \n",
    "            query = queries[int(query_id)]\n",
    "            for word in query[1]:\n",
    "                pwq_map[word] = 1 * (1-alpha)\n",
    "            \n",
    "            ## print test\n",
    "            print('Original query:', [id2token[word] for word in query[1]])\n",
    "            for word, p in sorted(zip(pwq_map.keys(), pwq_map.values()), key=lambda x: x[0]):\n",
    "                if p > 0:\n",
    "                    print(id2token[word] + ':', p)\n",
    "            \n",
    "            # get query representation\n",
    "            query_representation = [model[id2token[word]] * p for word, p in pwq_map.items() if id2token[word] in model and p > 0]\n",
    "            \n",
    "            # score with cosine-similarity\n",
    "            assesments = []\n",
    "            for doc_id in ranking:\n",
    "                doc = index.document(doc_id)\n",
    "                doc_representation = word2vec_representation(doc[1])\n",
    "                score = cos_similarity(doc_representation, query_representation)\n",
    "                assesments += [(score, doc[0])]\n",
    "            \n",
    "            # save results\n",
    "            write_run('_', query_id, tuple(assesments), run_file, 1000)\n",
    "\n",
    "            #\n",
    "            print('finished query:', query_id)\n",
    "            query_id = cell[0]\n",
    "            \n",
    "        # fill ranking\n",
    "        doc_id = index.document_ids([cell[2]])[0][1]\n",
    "        rank = int(cell[3]) - 1\n",
    "        ranking[rank] = doc_id\n",
    "        "
   ]
  }
 ],
 "metadata": {
  "anaconda-cloud": {},
  "kernelspec": {
   "display_name": "Python [default]",
   "language": "python",
   "name": "python3"
  },
  "language_info": {
   "codemirror_mode": {
    "name": "ipython",
    "version": 3
   },
   "file_extension": ".py",
   "mimetype": "text/x-python",
   "name": "python",
   "nbconvert_exporter": "python",
   "pygments_lexer": "ipython3",
   "version": "3.5.2"
  }
 },
 "nbformat": 4,
 "nbformat_minor": 0
}
